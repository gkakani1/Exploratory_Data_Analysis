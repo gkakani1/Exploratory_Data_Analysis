{
 "cells": [
  {
   "cell_type": "markdown",
   "metadata": {},
   "source": [
    "# week 12 - scaling of CSV file I/O"
   ]
  },
  {
   "cell_type": "code",
   "execution_count": 72,
   "metadata": {},
   "outputs": [],
   "source": [
    "# Importing required libraries\n",
    "import csv\n",
    "import random\n",
    "import string \n",
    "import os\n",
    "import time\n",
    "import pandas"
   ]
  },
  {
   "cell_type": "code",
   "execution_count": 73,
   "metadata": {},
   "outputs": [],
   "source": [
    "# Function to get the size of a file when its path is passed as an argument\n",
    "def get_file_size_in_bytes(file_path):\n",
    "    size = os.path.getsize(file_path)\n",
    "    return (size)\n",
    "\n"
   ]
  },
  {
   "cell_type": "code",
   "execution_count": 74,
   "metadata": {},
   "outputs": [],
   "source": [
    "# Function to generate random list of strings\n",
    "def genListOfString():\n",
    "    listOfStrings=[]\n",
    "    for i in range(10):\n",
    "        # Specifing the length of list between 3 to 25 charrecters\n",
    "        num_char = random.randint(3, 25)\n",
    "        rand_string = \"\"\n",
    "        # Generating a random string\n",
    "        for j in range(num_char):\n",
    "            rand_string += random.choice(string.ascii_letters)\n",
    "        listOfStrings.append(rand_string)\n",
    "    return listOfStrings"
   ]
  },
  {
   "cell_type": "code",
   "execution_count": 75,
   "metadata": {},
   "outputs": [],
   "source": [
    "timetowritefiles = []\n",
    "filenames=[]\n",
    "# Function to write a csv file with specific size when the size is passed as an argument. \n",
    "def writecsvFile(size):\n",
    "    for i in range(3):\n",
    "        # Using global function to use the lists outside the function\n",
    "        global timetowritefiles\n",
    "        global filenames\n",
    "        list2=['col1','col2','col3','col4','col5','col6','col7','col8','col9','col10']\n",
    "        # Creating name of the file\n",
    "        fileName= 'csvfile' + str(size) + \"MB\"+\"-file\"+str(i)+\".csv\"\n",
    "        # Adding names of each file to a list named filename  \n",
    "        filenames.append(fileName)\n",
    "        # Opening a new csv file \n",
    "        with open(fileName,'w',newline='') as f:\n",
    "            # Creating a writer object to write the rows\n",
    "            thewriter = csv.writer(f)\n",
    "            start = time.time()\n",
    "            thewriter.writerow(list2)\n",
    "            # Generating a list of 10 strings using genListOfString\n",
    "            a=genListOfString()\n",
    "            b=genListOfString()\n",
    "            # Using while loop to create the csv file of desired size\n",
    "            while (get_file_size_in_bytes(fileName) <= size*1048576): \n",
    "                thewriter.writerow(a)\n",
    "                thewriter.writerow(b)\n",
    "        end = time.time()\n",
    "        exe = end - start\n",
    "        timetowritefiles.append(exe)"
   ]
  },
  {
   "cell_type": "code",
   "execution_count": 76,
   "metadata": {},
   "outputs": [],
   "source": [
    "# Calling writecsvFile function to create the csv files of sizes(MB) as specified in the below list\n",
    "listofsizes= [0.1, 1, 5, 10, 100, 500]\n",
    "for i in listofsizes:\n",
    "    writecsvFile(i)"
   ]
  },
  {
   "cell_type": "code",
   "execution_count": 77,
   "metadata": {},
   "outputs": [
    {
     "data": {
      "text/plain": [
       "[0.05375790596008301,\n",
       " 0.043363332748413086,\n",
       " 0.03577733039855957,\n",
       " 0.23160433769226074,\n",
       " 0.2790842056274414,\n",
       " 0.23226237297058105,\n",
       " 1.280259370803833,\n",
       " 1.4385161399841309,\n",
       " 1.3071320056915283,\n",
       " 2.703495979309082,\n",
       " 2.3808035850524902,\n",
       " 2.7539710998535156,\n",
       " 33.72778272628784,\n",
       " 32.63761234283447,\n",
       " 26.99630832672119,\n",
       " 158.85650444030762,\n",
       " 149.26687479019165,\n",
       " 116.47921943664551]"
      ]
     },
     "execution_count": 77,
     "metadata": {},
     "output_type": "execute_result"
    }
   ],
   "source": [
    "# Time taken to write each csv file\n",
    "timetowritefiles"
   ]
  },
  {
   "cell_type": "code",
   "execution_count": 80,
   "metadata": {},
   "outputs": [],
   "source": [
    "# Function for loading a csv file into a dataframe and calculating the time taken for it.\n",
    "timetoreadfiles=[]\n",
    "def loadToDataFrame(a):\n",
    "    global timetoreadfiles\n",
    "    start= time.time()\n",
    "    df=pandas.read_csv(a)\n",
    "    end=time.time()\n",
    "    timetoreadfiles.append(end-start)\n",
    "    "
   ]
  },
  {
   "cell_type": "code",
   "execution_count": 81,
   "metadata": {},
   "outputs": [],
   "source": [
    "# Calling loadToDataFrame function\n",
    "for i in filenames:\n",
    "    loadToDataFrame(i)"
   ]
  },
  {
   "cell_type": "code",
   "execution_count": 82,
   "metadata": {},
   "outputs": [
    {
     "data": {
      "text/plain": [
       "[0.02646923065185547,\n",
       " 0.02547430992126465,\n",
       " 0.01988697052001953,\n",
       " 0.041069984436035156,\n",
       " 0.04402637481689453,\n",
       " 0.04529213905334473,\n",
       " 0.1427597999572754,\n",
       " 0.13658356666564941,\n",
       " 0.15143060684204102,\n",
       " 0.2844576835632324,\n",
       " 0.2726900577545166,\n",
       " 0.2766270637512207,\n",
       " 2.3151090145111084,\n",
       " 2.356253147125244,\n",
       " 2.1209828853607178,\n",
       " 11.199040412902832,\n",
       " 10.828109979629517,\n",
       " 9.511391878128052]"
      ]
     },
     "execution_count": 82,
     "metadata": {},
     "output_type": "execute_result"
    }
   ],
   "source": [
    "# Time taken to load each csv file into a dataframe\n",
    "timetoreadfiles"
   ]
  },
  {
   "cell_type": "code",
   "execution_count": 85,
   "metadata": {},
   "outputs": [
    {
     "data": {
      "text/plain": [
       "['csvfile0.1MB-file0.csv',\n",
       " 'csvfile0.1MB-file1.csv',\n",
       " 'csvfile0.1MB-file2.csv',\n",
       " 'csvfile1MB-file0.csv',\n",
       " 'csvfile1MB-file1.csv',\n",
       " 'csvfile1MB-file2.csv',\n",
       " 'csvfile5MB-file0.csv',\n",
       " 'csvfile5MB-file1.csv',\n",
       " 'csvfile5MB-file2.csv',\n",
       " 'csvfile10MB-file0.csv',\n",
       " 'csvfile10MB-file1.csv',\n",
       " 'csvfile10MB-file2.csv',\n",
       " 'csvfile100MB-file0.csv',\n",
       " 'csvfile100MB-file1.csv',\n",
       " 'csvfile100MB-file2.csv',\n",
       " 'csvfile500MB-file0.csv',\n",
       " 'csvfile500MB-file1.csv',\n",
       " 'csvfile500MB-file2.csv']"
      ]
     },
     "execution_count": 85,
     "metadata": {},
     "output_type": "execute_result"
    }
   ],
   "source": [
    "#Names of each csv file generated\n",
    "filenames"
   ]
  },
  {
   "cell_type": "code",
   "execution_count": 86,
   "metadata": {},
   "outputs": [],
   "source": [
    "# Creating a table with file name, its write time and read time.\n",
    "df = pandas.DataFrame(list(zip(filenames, timetowritefiles,timetoreadfiles)), \n",
    "               columns =['Name Of The File', 'Write Time','Read Time']) "
   ]
  },
  {
   "cell_type": "code",
   "execution_count": 87,
   "metadata": {},
   "outputs": [
    {
     "data": {
      "text/html": [
       "<div>\n",
       "<style scoped>\n",
       "    .dataframe tbody tr th:only-of-type {\n",
       "        vertical-align: middle;\n",
       "    }\n",
       "\n",
       "    .dataframe tbody tr th {\n",
       "        vertical-align: top;\n",
       "    }\n",
       "\n",
       "    .dataframe thead th {\n",
       "        text-align: right;\n",
       "    }\n",
       "</style>\n",
       "<table border=\"1\" class=\"dataframe\">\n",
       "  <thead>\n",
       "    <tr style=\"text-align: right;\">\n",
       "      <th></th>\n",
       "      <th>Name Of The File</th>\n",
       "      <th>Write Time</th>\n",
       "      <th>Read Time</th>\n",
       "    </tr>\n",
       "  </thead>\n",
       "  <tbody>\n",
       "    <tr>\n",
       "      <td>0</td>\n",
       "      <td>csvfile0.1MB-file0.csv</td>\n",
       "      <td>0.053758</td>\n",
       "      <td>0.026469</td>\n",
       "    </tr>\n",
       "    <tr>\n",
       "      <td>1</td>\n",
       "      <td>csvfile0.1MB-file1.csv</td>\n",
       "      <td>0.043363</td>\n",
       "      <td>0.025474</td>\n",
       "    </tr>\n",
       "    <tr>\n",
       "      <td>2</td>\n",
       "      <td>csvfile0.1MB-file2.csv</td>\n",
       "      <td>0.035777</td>\n",
       "      <td>0.019887</td>\n",
       "    </tr>\n",
       "    <tr>\n",
       "      <td>3</td>\n",
       "      <td>csvfile1MB-file0.csv</td>\n",
       "      <td>0.231604</td>\n",
       "      <td>0.041070</td>\n",
       "    </tr>\n",
       "    <tr>\n",
       "      <td>4</td>\n",
       "      <td>csvfile1MB-file1.csv</td>\n",
       "      <td>0.279084</td>\n",
       "      <td>0.044026</td>\n",
       "    </tr>\n",
       "    <tr>\n",
       "      <td>5</td>\n",
       "      <td>csvfile1MB-file2.csv</td>\n",
       "      <td>0.232262</td>\n",
       "      <td>0.045292</td>\n",
       "    </tr>\n",
       "    <tr>\n",
       "      <td>6</td>\n",
       "      <td>csvfile5MB-file0.csv</td>\n",
       "      <td>1.280259</td>\n",
       "      <td>0.142760</td>\n",
       "    </tr>\n",
       "    <tr>\n",
       "      <td>7</td>\n",
       "      <td>csvfile5MB-file1.csv</td>\n",
       "      <td>1.438516</td>\n",
       "      <td>0.136584</td>\n",
       "    </tr>\n",
       "    <tr>\n",
       "      <td>8</td>\n",
       "      <td>csvfile5MB-file2.csv</td>\n",
       "      <td>1.307132</td>\n",
       "      <td>0.151431</td>\n",
       "    </tr>\n",
       "    <tr>\n",
       "      <td>9</td>\n",
       "      <td>csvfile10MB-file0.csv</td>\n",
       "      <td>2.703496</td>\n",
       "      <td>0.284458</td>\n",
       "    </tr>\n",
       "    <tr>\n",
       "      <td>10</td>\n",
       "      <td>csvfile10MB-file1.csv</td>\n",
       "      <td>2.380804</td>\n",
       "      <td>0.272690</td>\n",
       "    </tr>\n",
       "    <tr>\n",
       "      <td>11</td>\n",
       "      <td>csvfile10MB-file2.csv</td>\n",
       "      <td>2.753971</td>\n",
       "      <td>0.276627</td>\n",
       "    </tr>\n",
       "    <tr>\n",
       "      <td>12</td>\n",
       "      <td>csvfile100MB-file0.csv</td>\n",
       "      <td>33.727783</td>\n",
       "      <td>2.315109</td>\n",
       "    </tr>\n",
       "    <tr>\n",
       "      <td>13</td>\n",
       "      <td>csvfile100MB-file1.csv</td>\n",
       "      <td>32.637612</td>\n",
       "      <td>2.356253</td>\n",
       "    </tr>\n",
       "    <tr>\n",
       "      <td>14</td>\n",
       "      <td>csvfile100MB-file2.csv</td>\n",
       "      <td>26.996308</td>\n",
       "      <td>2.120983</td>\n",
       "    </tr>\n",
       "    <tr>\n",
       "      <td>15</td>\n",
       "      <td>csvfile500MB-file0.csv</td>\n",
       "      <td>158.856504</td>\n",
       "      <td>11.199040</td>\n",
       "    </tr>\n",
       "    <tr>\n",
       "      <td>16</td>\n",
       "      <td>csvfile500MB-file1.csv</td>\n",
       "      <td>149.266875</td>\n",
       "      <td>10.828110</td>\n",
       "    </tr>\n",
       "    <tr>\n",
       "      <td>17</td>\n",
       "      <td>csvfile500MB-file2.csv</td>\n",
       "      <td>116.479219</td>\n",
       "      <td>9.511392</td>\n",
       "    </tr>\n",
       "  </tbody>\n",
       "</table>\n",
       "</div>"
      ],
      "text/plain": [
       "          Name Of The File  Write Time  Read Time\n",
       "0   csvfile0.1MB-file0.csv    0.053758   0.026469\n",
       "1   csvfile0.1MB-file1.csv    0.043363   0.025474\n",
       "2   csvfile0.1MB-file2.csv    0.035777   0.019887\n",
       "3     csvfile1MB-file0.csv    0.231604   0.041070\n",
       "4     csvfile1MB-file1.csv    0.279084   0.044026\n",
       "5     csvfile1MB-file2.csv    0.232262   0.045292\n",
       "6     csvfile5MB-file0.csv    1.280259   0.142760\n",
       "7     csvfile5MB-file1.csv    1.438516   0.136584\n",
       "8     csvfile5MB-file2.csv    1.307132   0.151431\n",
       "9    csvfile10MB-file0.csv    2.703496   0.284458\n",
       "10   csvfile10MB-file1.csv    2.380804   0.272690\n",
       "11   csvfile10MB-file2.csv    2.753971   0.276627\n",
       "12  csvfile100MB-file0.csv   33.727783   2.315109\n",
       "13  csvfile100MB-file1.csv   32.637612   2.356253\n",
       "14  csvfile100MB-file2.csv   26.996308   2.120983\n",
       "15  csvfile500MB-file0.csv  158.856504  11.199040\n",
       "16  csvfile500MB-file1.csv  149.266875  10.828110\n",
       "17  csvfile500MB-file2.csv  116.479219   9.511392"
      ]
     },
     "execution_count": 87,
     "metadata": {},
     "output_type": "execute_result"
    }
   ],
   "source": [
    "df"
   ]
  },
  {
   "cell_type": "code",
   "execution_count": 90,
   "metadata": {},
   "outputs": [],
   "source": [
    "# Calculating average write time for each file size\n",
    "avgwritetime=[]\n",
    "for i in range(0,18,3):\n",
    "    avg= (timetowritefiles[i]+timetowritefiles[i+1]+timetowritefiles[i+2])/3\n",
    "    avgwritetime.append(avg)"
   ]
  },
  {
   "cell_type": "code",
   "execution_count": 91,
   "metadata": {},
   "outputs": [
    {
     "data": {
      "text/plain": [
       "[0.04429952303568522,\n",
       " 0.2476503054300944,\n",
       " 1.3419691721598308,\n",
       " 2.612756888071696,\n",
       " 31.120567798614502,\n",
       " 141.53419955571493]"
      ]
     },
     "execution_count": 91,
     "metadata": {},
     "output_type": "execute_result"
    }
   ],
   "source": [
    "avgwritetime"
   ]
  },
  {
   "cell_type": "code",
   "execution_count": 92,
   "metadata": {},
   "outputs": [],
   "source": [
    "# Calculating average read time for each file size\n",
    "avgreadtime=[]\n",
    "for i in range(0,18,3):\n",
    "    avg= (timetoreadfiles[i]+timetoreadfiles[i+1]+timetoreadfiles[i+2])/3\n",
    "    avgreadtime.append(avg)"
   ]
  },
  {
   "cell_type": "code",
   "execution_count": 93,
   "metadata": {},
   "outputs": [
    {
     "data": {
      "text/plain": [
       "[0.023943503697713215,\n",
       " 0.04346283276875814,\n",
       " 0.14359132448832193,\n",
       " 0.2779249350229899,\n",
       " 2.26411501566569,\n",
       " 10.512847423553467]"
      ]
     },
     "execution_count": 93,
     "metadata": {},
     "output_type": "execute_result"
    }
   ],
   "source": [
    "avgreadtime"
   ]
  },
  {
   "cell_type": "code",
   "execution_count": 128,
   "metadata": {},
   "outputs": [
    {
     "data": {
      "image/png": "[encoded data removed]",
      "text/plain": [
       "<Figure size 432x288 with 1 Axes>"
      ]
     },
     "metadata": {
      "needs_background": "light"
     },
     "output_type": "display_data"
    }
   ],
   "source": [
    "# Plotting the average write times and average load times versus file size\n",
    "import matplotlib.pyplot as plt\n",
    "plt.grid(True, which=\"both\")\n",
    "line1,=plt.semilogy(listofsizes, avgwritetime,color = \"r\" )\n",
    "line2,=plt.semilogy(listofsizes, avgreadtime,color = \"b\" )\n",
    "plt.title('Avg Write-time vs File-Size')\n",
    "plt.xlabel('File Size(MB)')\n",
    "plt.ylabel('Write-Time (log scale)')\n",
    "plt.legend((line1,line2), ('size vs avgwritetime', 'size vs avgreadtime'))\n",
    "plt.show()\n"
   ]
  },
  {
   "cell_type": "code",
   "execution_count": null,
   "metadata": {},
   "outputs": [],
   "source": []
  }
 ],
 "metadata": {
  "kernelspec": {
   "display_name": "Python 3",
   "language": "python",
   "name": "python3"
  },
  "language_info": {
   "codemirror_mode": {
    "name": "ipython",
    "version": 3
   },
   "file_extension": ".py",
   "mimetype": "text/x-python",
   "name": "python",
   "nbconvert_exporter": "python",
   "pygments_lexer": "ipython3",
   "version": "3.7.4"
  }
 },
 "nbformat": 4,
 "nbformat_minor": 2
}
