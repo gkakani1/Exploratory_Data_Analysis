{
 "cells": [
  {
   "cell_type": "markdown",
   "metadata": {},
   "source": [
    "# Week - 10 Assignment"
   ]
  },
  {
   "cell_type": "code",
   "execution_count": 83,
   "metadata": {},
   "outputs": [],
   "source": [
    "#Importing required libraries\n",
    "import zipfile\n",
    "import glob \n",
    "from zipfile import ZipFile "
   ]
  },
  {
   "cell_type": "code",
   "execution_count": 45,
   "metadata": {},
   "outputs": [],
   "source": [
    "# Reading the zip file using zipfile.ZipFile class\n",
    "zip = zipfile.ZipFile('week_10_txt_and_docx.zip')"
   ]
  },
  {
   "cell_type": "code",
   "execution_count": 46,
   "metadata": {},
   "outputs": [
    {
     "name": "stdout",
     "output_type": "stream",
     "text": [
      "Extracting all the files now...\n"
     ]
    }
   ],
   "source": [
    "# Extracting all the file from the zip file into Week 10 folder\n",
    "with ZipFile(\"week_10_txt_and_docx.zip\", 'r') as zip: \n",
    "    print('Extracting all the files now...') \n",
    "    zip.extractall(\"Week 10\")  "
   ]
  },
  {
   "cell_type": "code",
   "execution_count": 84,
   "metadata": {},
   "outputs": [
    {
     "data": {
      "text/plain": [
       "['C:/Users/gouth/DATA 601/week_10_txt_and_docx\\\\52256-0.txt',\n",
       " 'C:/Users/gouth/DATA 601/week_10_txt_and_docx\\\\53031-0.txt',\n",
       " 'C:/Users/gouth/DATA 601/week_10_txt_and_docx\\\\58108-0.txt',\n",
       " 'C:/Users/gouth/DATA 601/week_10_txt_and_docx\\\\blind_text.txt',\n",
       " 'C:/Users/gouth/DATA 601/week_10_txt_and_docx\\\\dr_yawn.txt',\n",
       " 'C:/Users/gouth/DATA 601/week_10_txt_and_docx\\\\how_rubber_goods_are_made.txt',\n",
       " 'C:/Users/gouth/DATA 601/week_10_txt_and_docx\\\\most_boring_ever.txt',\n",
       " 'C:/Users/gouth/DATA 601/week_10_txt_and_docx\\\\most_boring_part2.txt',\n",
       " 'C:/Users/gouth/DATA 601/week_10_txt_and_docx\\\\pg12814.txt',\n",
       " 'C:/Users/gouth/DATA 601/week_10_txt_and_docx\\\\pg14895.txt',\n",
       " 'C:/Users/gouth/DATA 601/week_10_txt_and_docx\\\\pg43994.txt',\n",
       " 'C:/Users/gouth/DATA 601/week_10_txt_and_docx\\\\random_text.txt',\n",
       " 'C:/Users/gouth/DATA 601/week_10_txt_and_docx\\\\smiley_the_bunny.txt',\n",
       " 'C:/Users/gouth/DATA 601/week_10_txt_and_docx\\\\week_10_document1.docx',\n",
       " 'C:/Users/gouth/DATA 601/week_10_txt_and_docx\\\\week_10_document2.docx']"
      ]
     },
     "execution_count": 84,
     "metadata": {},
     "output_type": "execute_result"
    }
   ],
   "source": [
    "# Printing all the files with .txt and .docx format using golb.glob function\n",
    "glob.glob(\"C:/Users/gouth/DATA 601/week_10_txt_and_docx/*\")"
   ]
  },
  {
   "cell_type": "code",
   "execution_count": 85,
   "metadata": {},
   "outputs": [],
   "source": [
    "# Taking all the files with .txt extension into list1\n",
    "list1=glob.glob(\"Week 10/*.txt\")"
   ]
  },
  {
   "cell_type": "code",
   "execution_count": 86,
   "metadata": {},
   "outputs": [],
   "source": [
    "# Taking all the files with .docx extension into list2\n",
    "list2=glob.glob(\"Week 10/*.docx\")"
   ]
  },
  {
   "cell_type": "code",
   "execution_count": 87,
   "metadata": {},
   "outputs": [],
   "source": [
    "# A new list named list_final consisting of all the .txt and .docx files\n",
    "list_final=list1+list2"
   ]
  },
  {
   "cell_type": "markdown",
   "metadata": {},
   "source": [
    "Function for reading a text file."
   ]
  },
  {
   "cell_type": "code",
   "execution_count": 88,
   "metadata": {},
   "outputs": [],
   "source": [
    "def readtxtFile(file):\n",
    "    # Opening the text file in 8-bit Unicode Transformation Format\n",
    "    file1=open(file,\"r\",encoding=\"utf8\")\n",
    "    # Reading the text in the file as a string type\n",
    "    string1 = file1.read()\n",
    "    return string1"
   ]
  },
  {
   "cell_type": "markdown",
   "metadata": {},
   "source": [
    "Functon to remove the punctuation marks "
   ]
  },
  {
   "cell_type": "code",
   "execution_count": 89,
   "metadata": {},
   "outputs": [],
   "source": [
    "def remove_punctuation(string1):\n",
    "    # Taking all the punctuation marks as a string\n",
    "    punctuations = '''!()-[]{};:'\"\\,<>./?@#$%^&*_~'''\n",
    "    # Creating a new empty string\n",
    "    new_string=''\n",
    "    for char in string1:\n",
    "        # For every character in the string passed, if the character is not a punctuation\n",
    "        if char not in punctuations:\n",
    "            # Add that charecter to the new_string\n",
    "            new_string = new_string + char\n",
    "    return new_string"
   ]
  },
  {
   "cell_type": "markdown",
   "metadata": {},
   "source": [
    "Function to remove the URLs from a string"
   ]
  },
  {
   "cell_type": "code",
   "execution_count": 90,
   "metadata": {},
   "outputs": [],
   "source": [
    "def removeURLs(string1):\n",
    "    return re.sub(r'\\w+:\\/{2}[\\d\\w-]+(\\.[\\d\\w-]+)*(?:(?:\\/[^\\s/]*))*', '', string1)\n",
    "# Citation \n",
    "# https://stackoverflow.com/questions/11331982/how-to-remove-any-url-within-a-string-in-python"
   ]
  },
  {
   "cell_type": "code",
   "execution_count": 91,
   "metadata": {},
   "outputs": [],
   "source": [
    "#import nltk\n",
    "#nltk.download()"
   ]
  },
  {
   "cell_type": "code",
   "execution_count": 92,
   "metadata": {},
   "outputs": [],
   "source": [
    "# Importing stopwords from natural language tool kit\n",
    "from nltk.corpus import stopwords\n",
    "# Getting english stopwords\n",
    "stopwords = set(stopwords.words('english'))"
   ]
  },
  {
   "cell_type": "markdown",
   "metadata": {},
   "source": [
    "Function to remove the stopwords"
   ]
  },
  {
   "cell_type": "code",
   "execution_count": 94,
   "metadata": {},
   "outputs": [],
   "source": [
    "def removeStopwords(a):    \n",
    "    new_list=[]\n",
    "    # For the elements in the list passed, if it is not in stopwords append it to new list.\n",
    "    for i in a:\n",
    "        if i not in stopwords:\n",
    "            new_list.append(i)\n",
    "    return new_list"
   ]
  },
  {
   "cell_type": "markdown",
   "metadata": {},
   "source": [
    "Function to convert string to list"
   ]
  },
  {
   "cell_type": "code",
   "execution_count": 95,
   "metadata": {},
   "outputs": [],
   "source": [
    "import re \n",
    "def stringToList(stri):\n",
    "    # reading the string and writing each word into a list \n",
    "    new_list = re.findall(r'\\w+', stri) \n",
    "    return new_list"
   ]
  },
  {
   "cell_type": "markdown",
   "metadata": {},
   "source": [
    "Function to read the text in .docx file into a list and return it."
   ]
  },
  {
   "cell_type": "code",
   "execution_count": 96,
   "metadata": {},
   "outputs": [],
   "source": [
    "import docx\n",
    "def readDocxfile(filename):\n",
    "    # Reading the file using docx.Document function\n",
    "    doc = docx.Document(filename)\n",
    "    fullText = []\n",
    "    # Reading the paragraphs in the file ordrly and appending the text in those paragraphs to a list. \n",
    "    for para in doc.paragraphs:\n",
    "        fullText.append(para.text)\n",
    "    return fullText"
   ]
  },
  {
   "cell_type": "markdown",
   "metadata": {},
   "source": [
    "Function to convert list to string"
   ]
  },
  {
   "cell_type": "code",
   "execution_count": 97,
   "metadata": {},
   "outputs": [],
   "source": [
    "def listToString(list1):\n",
    "    str1 = \"\"    \n",
    "    for ele in list1:  \n",
    "        str1 += ele   \n",
    "    return str1 "
   ]
  },
  {
   "cell_type": "markdown",
   "metadata": {},
   "source": [
    "Function to return the unique words in a list"
   ]
  },
  {
   "cell_type": "code",
   "execution_count": 98,
   "metadata": {},
   "outputs": [],
   "source": [
    "def uniqueWordsInlist(list1):\n",
    "    list2=[]\n",
    "    for i in list1:\n",
    "        if i not in list2:\n",
    "            list2.append(i)\n",
    "    return list2"
   ]
  },
  {
   "cell_type": "code",
   "execution_count": 99,
   "metadata": {},
   "outputs": [
    {
     "name": "stdout",
     "output_type": "stream",
     "text": [
      "Requirement already satisfied: python-docx in c:\\programdata\\anaconda3\\lib\\site-packages (0.8.10)\n",
      "Requirement already satisfied: lxml>=2.3.2 in c:\\programdata\\anaconda3\\lib\\site-packages (from python-docx) (4.4.1)\n",
      "Note: you may need to restart the kernel to use updated packages.\n"
     ]
    }
   ],
   "source": [
    "pip install python-docx"
   ]
  },
  {
   "cell_type": "code",
   "execution_count": 100,
   "metadata": {},
   "outputs": [],
   "source": [
    "str1 = \"\"\n",
    "def remove(a):\n",
    "    #str1= \" \" \n",
    "    # Using a string str1 defined outside the function so that when the function is called recursively it doesn't start with an empty string.\n",
    "    global str1\n",
    "    # Adding name of the file to the string\n",
    "    str1 += '\"' +a+ '\"'\n",
    "    str1 += \" : \"\n",
    "    # If the file passed to the function is a text file.\n",
    "    if a.endswith('.txt'):\n",
    "        #calling readtxtFile function to read the text file as a string\n",
    "        b=readtxtFile(a)\n",
    "        # Calling function to remove URLs from string\n",
    "        c=removeURLs(b)\n",
    "        # Calling remove_punctution function to remove punctuations from the string\n",
    "        d=remove_punctuation(c)\n",
    "        # Converting all the words into lower case letters\n",
    "        e=d.lower()\n",
    "        # Converting the string into a list\n",
    "        list1=stringToList(e)\n",
    "        # Removing all the stopwords in the list\n",
    "        new_list=removeStopwords(list1)\n",
    "        # Making a new list with all the unique values\n",
    "        final_list= uniqueWordsInlist(new_list)\n",
    "        # Converting list to string\n",
    "        for ele in final_list:  \n",
    "            str1 += ele\n",
    "            str1 += \",\"\n",
    "\n",
    "\n",
    "    \n",
    "    elif a.endswith('.docx'):\n",
    "        #calling readDocxfile function to read the text file as a list\n",
    "        b=readDocxfile(a)\n",
    "        #Converting the list to string\n",
    "        c=listToString(b)\n",
    "        # Calling function to remove URLs from string\n",
    "        d=removeURLs(c)\n",
    "        # Calling remove_punctution function to remove punctuations from the string\n",
    "        e=remove_punctuation(d)\n",
    "        # Converting all the words into lower case letters\n",
    "        f=e.lower()\n",
    "        # Converting the string into a list\n",
    "        list1=stringToList(f)\n",
    "        # Removing all the stopwords in the list\n",
    "        new_list= removeStopwords(list1)\n",
    "        # Making a new list with all the unique values\n",
    "        final_list= uniqueWordsInlist(new_list)\n",
    "        # Converting list to string\n",
    "        for ele in final_list:  \n",
    "            str1 += ele\n",
    "            str1 += \",\"\n",
    "    \n",
    "    \n",
    "    return str1"
   ]
  },
  {
   "cell_type": "code",
   "execution_count": 101,
   "metadata": {},
   "outputs": [],
   "source": [
    "# Calling the fnction recursively for all the files extracted from zip file\n",
    "for i in list_final:\n",
    "    # Storing the reurned value after calling the functions file\n",
    "    file=remove(i)\n"
   ]
  },
  {
   "cell_type": "code",
   "execution_count": 103,
   "metadata": {},
   "outputs": [],
   "source": [
    "# Opening a new file.dat in the curent directory and writing the file value into it \n",
    "with open(\"Week 10\\\\file.dat\", \"w\",encoding=\"utf8\") as text_file:\n",
    "    text_file.write(file)"
   ]
  }
 ],
 "metadata": {
  "kernelspec": {
   "display_name": "Python 3",
   "language": "python",
   "name": "python3"
  },
  "language_info": {
   "codemirror_mode": {
    "name": "ipython",
    "version": 3
   },
   "file_extension": ".py",
   "mimetype": "text/x-python",
   "name": "python",
   "nbconvert_exporter": "python",
   "pygments_lexer": "ipython3",
   "version": "3.7.4"
  }
 },
 "nbformat": 4,
 "nbformat_minor": 2
}
