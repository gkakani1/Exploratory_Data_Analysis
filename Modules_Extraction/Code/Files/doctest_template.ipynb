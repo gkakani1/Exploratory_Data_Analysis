{
 "cells": [
  {
   "cell_type": "markdown",
   "metadata": {},
   "source": [
    "# Week - 8 Assignment   :-  Date Conversion Function\n"
   ]
  },
  {
   "cell_type": "code",
   "execution_count": 101,
   "metadata": {},
   "outputs": [
    {
     "name": "stdout",
     "output_type": "stream",
     "text": [
      "Trying:\n",
      "    convert_datetime_to_dayofweek('Jun 1 2005  1:33PM')\n",
      "Expecting:\n",
      "    'Wednesday'\n",
      "ok\n",
      "Trying:\n",
      "    convert_datetime_to_dayofweek('Oct 25 2012  2:17AM')\n",
      "Expecting:\n",
      "    'Thursday'\n",
      "ok\n",
      "3 items had no tests:\n",
      "    convert_datetime_to_dayofweek\n",
      "    convert_datetime_to_dayofweek.day\n",
      "    convert_datetime_to_dayofweek.findDay\n",
      "1 items passed all tests:\n",
      "   2 tests in convert_datetime_to_dayofweek.convert_datetime_to_dayofweek\n",
      "2 tests in 4 items.\n",
      "2 passed and 0 failed.\n",
      "Test passed.\n"
     ]
    }
   ],
   "source": [
    "# Importing the libraries\n",
    "from doctest import testmod \n",
    "import datetime \n",
    "def convert_datetime_to_dayofweek(datetime_string):\n",
    "    \"\"\"\n",
    "    This function takes date in the format MON DAY YEAR  HH:MM(PM/AM)\n",
    "    and returns the day of the week\n",
    "    Assume input string is UTC\n",
    "    \n",
    "    >>> convert_datetime_to_dayofweek('Jun 1 2005  1:33PM')\n",
    "    'Wednesday'\n",
    "    >>> convert_datetime_to_dayofweek('Oct 25 2012  2:17AM')\n",
    "    'Thursday'\n",
    "    \"\"\"\n",
    "    # your code goes here\n",
    "    # Taking a list containing day names from monday to sunday from index 0 to 6 in order\n",
    "    day_name= ['Monday', 'Tuesday', 'Wednesday', 'Thursday', 'Friday', 'Saturday','Sunday']\n",
    "    # Getting the day of the given datetime as numbers from 0 to 6 indicating Monday to Sunday respectively using datetime library and timestamp function.\n",
    "    day = datetime.datetime.strptime(datetime_string,'%b %d %Y %H:%M%p').weekday() \n",
    "    #Getting the name of the day from the day value obtained through the list\n",
    "    dayofweek = day_name[day]\n",
    "    \n",
    "    return dayofweek\n",
    "# Testing the given test cases using docktest library.\n",
    "if __name__ == '__main__': \n",
    "    testmod(name ='convert_datetime_to_dayofweek', verbose = True) "
   ]
  },
  {
   "cell_type": "code",
   "execution_count": null,
   "metadata": {},
   "outputs": [],
   "source": []
  }
 ],
 "metadata": {
  "kernelspec": {
   "display_name": "Python 3",
   "language": "python",
   "name": "python3"
  },
  "language_info": {
   "codemirror_mode": {
    "name": "ipython",
    "version": 3
   },
   "file_extension": ".py",
   "mimetype": "text/x-python",
   "name": "python",
   "nbconvert_exporter": "python",
   "pygments_lexer": "ipython3",
   "version": "3.7.4"
  }
 },
 "nbformat": 4,
 "nbformat_minor": 2
}
