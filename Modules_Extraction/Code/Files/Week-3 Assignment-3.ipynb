{
 "cells": [
  {
   "cell_type": "markdown",
   "metadata": {},
   "source": [
    "# Week - 3   Assignment -3 "
   ]
  },
  {
   "cell_type": "code",
   "execution_count": 15,
   "metadata": {},
   "outputs": [],
   "source": [
    "import random\n",
    "import pandas\n",
    "import pandas as pd\n",
    "from random import randint\n"
   ]
  },
  {
   "cell_type": "code",
   "execution_count": 16,
   "metadata": {},
   "outputs": [],
   "source": [
    "#Defining a function name \n",
    "#Create a list named letters consisting all the letters in the english alphabet\n",
    "#Randomly creating a name of length whose range randomly lies between 4 to 10\n",
    "#Define a function named email\n",
    "#Create a list consisting of domain names of email adress.\n",
    "#Appending the randomly generated name to randomly selected email domain name and returning the email \n",
    "def name():\n",
    "    n=randint(4,10)\n",
    "    letters = [\"a\", \"b\", \"c\", \"d\",\"e\", \"f\", \"g\", \"h\", \"i\", \"j\", \"k\", \"l\",\"m\",\"n\",\"o\",\"p\",\"q\",\"r\",\"s\",\"t\",\"u\",\"v\",\"w\",\"x\",\"y\",\"z\"]\n",
    "    name1=\"\"\n",
    "    for i in range(0,n):\n",
    "        name1 = name1 + letters[randint(0,len(letters)-1)]\n",
    "    return name1\n",
    "        \n",
    "def email():\n",
    "    list1 = [ \"@hotmail.com\", \"@gmail.com\", \"@outlook.com\" , \"@rediff.com\", \"@yahoo.com\",\"@inbox.com\"]\n",
    "    \n",
    "    f2=list1[randint(0,len(list1)-1)]\n",
    "    #f1=letters[randint(0,len(letters))]\n",
    "    return (name()+f2)\n",
    "\n",
    "\n",
    "\n",
    "\n"
   ]
  },
  {
   "cell_type": "code",
   "execution_count": 17,
   "metadata": {},
   "outputs": [],
   "source": [
    "# Defining a function named phone such that it returns an phone number of orginal phone number format\n",
    "def phone():\n",
    "    m=\"(\"\n",
    "    n=\")\"\n",
    "    o=\"+1 \"\n",
    "    return (str(o)+str(m)+str(randint(100,999))+str(n) + str(-randint(100,999))+str(-randint(1000,9999)))\n",
    "\n",
    "\n"
   ]
  },
  {
   "cell_type": "code",
   "execution_count": 18,
   "metadata": {},
   "outputs": [],
   "source": [
    "#Defining a functionn named DOB\n",
    "#Let us first randomly select month from 1 to 12 and assign it to a variable m\n",
    "#Randomly selecting an year in between 1935-1992 and  assigning it to a variable x\n",
    "#According to the month the day should be randomly selected in between 1-30 or 1-31\n",
    "#If it is february check weather it is a leap year or not and then if is a  leap year range lies between 1-29 or else lies b/w 1-28\n",
    "def dob():\n",
    "    m=randint(1,12)\n",
    "    x=randint(1935,1992)\n",
    "    if m==1 or m==3 or m==5 or m==7 or m==8 or m==10 or m==12:\n",
    "        return (str(m)+str(-randint(1,31))+str(-x))\n",
    "    elif m==2:\n",
    "        if(x%4==0):\n",
    "            return (str(m)+str(-randint(1,29))+str(-x))\n",
    "        else:\n",
    "            return (str(m)+str(-randint(1,28))+str(-x))\n",
    "    else:\n",
    "        return (str(m)+str(-randint(1,30))+str(-x))\n",
    "            \n"
   ]
  },
  {
   "cell_type": "code",
   "execution_count": 19,
   "metadata": {},
   "outputs": [],
   "source": [
    "#Reading an exixting file sample-Copy1.csv\n",
    "dframe= pandas.read_csv(\"sample-Copy1.csv\")"
   ]
  },
  {
   "cell_type": "code",
   "execution_count": 20,
   "metadata": {},
   "outputs": [],
   "source": [
    "#Defining a function named adress\n",
    "#In 4 different  lists, assign the values of street names, city name, zip code and state respectively which are the columns of the sample-Copy1.csv\n",
    "#An adress is created from randomly selecting the elements from those lists and appending those values and returning the value when function is called\n",
    "def adress():\n",
    "    list1= dframe['street']\n",
    "    list2= dframe['city']\n",
    "    list3= dframe['zip']\n",
    "    list4= dframe['state']\n",
    "    return (list1[randint(0,len(list1)-1)],list2[randint(0,len(list2)-1)],list3[randint(0,len(list3)-1)],list4[randint(0,len(list4)-1)])\n"
   ]
  },
  {
   "cell_type": "code",
   "execution_count": 21,
   "metadata": {},
   "outputs": [],
   "source": [
    "#Defining a function named numberofkids which returns a value betwween 0 to 3\n",
    "def numbofkids():\n",
    "    return randint(0,3)\n",
    "\n",
    "\n"
   ]
  },
  {
   "cell_type": "code",
   "execution_count": 22,
   "metadata": {},
   "outputs": [],
   "source": [
    "#Defining a function named categorialvalue whiich returns one of the two elements in a list randomly\n",
    "def categorialvalue():\n",
    "    list1= [\"Rent\",\"Own\"]\n",
    "    return(random.choice(list1))\n"
   ]
  },
  {
   "cell_type": "code",
   "execution_count": 23,
   "metadata": {},
   "outputs": [],
   "source": [
    "#Defining a function named income  which returns a value betwween 70000 to 300000\n",
    "def income():\n",
    "    return (randint(70000,300000))\n",
    "\n",
    "\n"
   ]
  },
  {
   "cell_type": "code",
   "execution_count": 24,
   "metadata": {
    "scrolled": true
   },
   "outputs": [],
   "source": [
    "#Defining a function named tickts which returns a value betwween 0 to 5\n",
    "def tickets():\n",
    "    return (randint(0,5))\n",
    "\n",
    "\n"
   ]
  },
  {
   "cell_type": "code",
   "execution_count": 25,
   "metadata": {},
   "outputs": [],
   "source": [
    "#Defining a function named fake_data which contains two arguments file_name and number_of_entities\n",
    "#Calling each function defined above as many times as number_of_entities and assigning it to a string\n",
    "#Let us take all the lists into a directory \n",
    "#Creating a data frame df from the directory \n",
    "#Saving the data frame as the argument file_name as a .csv file and re \n",
    "def fake_data(file_name,number_of_entities):\n",
    "    email1=[]\n",
    "    \n",
    "    for i in range(0,number_of_entities):\n",
    "        a=email()\n",
    "        email1.append(a)\n",
    "    phone1=[]\n",
    "    for i in range(0,number_of_entities):\n",
    "        a=phone()\n",
    "        phone1.append(a)\n",
    "    name1=[]\n",
    "    for i in range(0,number_of_entities):\n",
    "        a=name()\n",
    "        name1.append(a)\n",
    "    dob1=[]\n",
    "    for i in range(0,number_of_entities):\n",
    "        a=dob()\n",
    "        dob1.append(a)\n",
    "    adress1=[]\n",
    "    for i in range(0,number_of_entities):\n",
    "        a=adress()\n",
    "        adress1.append(a)\n",
    "    kids1=[]\n",
    "    for i in range(0,number_of_entities):\n",
    "        a=numbofkids()\n",
    "        kids1.append(a)\n",
    "    catVal=[]\n",
    "    for i in range(0,number_of_entities):\n",
    "        a=categorialvalue()\n",
    "        catVal.append(a)\n",
    "    income1=[]\n",
    "    for i in range(0,number_of_entities):\n",
    "        a=income()\n",
    "        income1.append(a)\n",
    "    tick=[]\n",
    "    for i in range(0,number_of_entities):\n",
    "        a=tickets()\n",
    "        tick.append(a)\n",
    "    lists=[tick,income1,catVal,kids1,adress1,dob1,name1,email1]\n",
    "    data={\"Name\":name1,\"Phone  number\":phone1,\"Home  Address\":adress1,\"Email addresses\":email1,\"Year born\":dob1,\"Number  of kids\":kids1,\"Categorical variable\":catVal,\"Annual income\":income1,\"Number  of speeding  tickets in past year\":tick}\n",
    "    df=pd.DataFrame.from_dict(data)\n",
    "    \n",
    "    export_csv = df.to_csv (file_name+'.csv', index = None, header=True)\n",
    "    \n",
    "    #return df.head()\n",
    "\n",
    "    \n",
    "\n",
    "        \n",
    "    \n",
    "\n",
    "    \n",
    "\n",
    "\n",
    "    \n",
    "\n",
    "    \n",
    "    \n",
    "    "
   ]
  },
  {
   "cell_type": "code",
   "execution_count": 26,
   "metadata": {},
   "outputs": [],
   "source": [
    "fake_data(\"fake1\",100)"
   ]
  },
  {
   "cell_type": "code",
   "execution_count": 27,
   "metadata": {},
   "outputs": [],
   "source": [
    "fake_data(\"fake2\",200)"
   ]
  },
  {
   "cell_type": "code",
   "execution_count": null,
   "metadata": {},
   "outputs": [],
   "source": []
  }
 ],
 "metadata": {
  "kernelspec": {
   "display_name": "Python 3",
   "language": "python",
   "name": "python3"
  },
  "language_info": {
   "codemirror_mode": {
    "name": "ipython",
    "version": 3
   },
   "file_extension": ".py",
   "mimetype": "text/x-python",
   "name": "python",
   "nbconvert_exporter": "python",
   "pygments_lexer": "ipython3",
   "version": "3.7.4"
  }
 },
 "nbformat": 4,
 "nbformat_minor": 2
}
