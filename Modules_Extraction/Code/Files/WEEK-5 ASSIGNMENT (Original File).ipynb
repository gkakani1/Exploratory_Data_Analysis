{
 "cells": [
  {
   "cell_type": "markdown",
   "metadata": {},
   "source": [
    "# Importing openpyxl and accessing the saved workbook"
   ]
  },
  {
   "cell_type": "code",
   "execution_count": 1,
   "metadata": {},
   "outputs": [],
   "source": [
    "import openpyxl\n",
    "wb = openpyxl.load_workbook('week_05_homework_XLSX_openpyxl.xlsx')\n"
   ]
  },
  {
   "cell_type": "code",
   "execution_count": 2,
   "metadata": {},
   "outputs": [
    {
     "data": {
      "text/plain": [
       "['patient info', 'records']"
      ]
     },
     "execution_count": 2,
     "metadata": {},
     "output_type": "execute_result"
    }
   ],
   "source": [
    "# Displaing the sheets present in our workbook\n",
    "wb.sheetnames\n"
   ]
  },
  {
   "cell_type": "markdown",
   "metadata": {},
   "source": [
    "# Saving the maximum rows and columns present in the first two sheets into  variables"
   ]
  },
  {
   "cell_type": "code",
   "execution_count": 3,
   "metadata": {},
   "outputs": [],
   "source": [
    "sheets=wb.sheetnames\n",
    "m_r1 = wb[sheets[0]].max_row \n",
    "m_c1 = wb[sheets[0]].max_column\n",
    "m_r2 = wb[sheets[1]].max_row \n",
    "m_c2 = wb[sheets[1]].max_column"
   ]
  },
  {
   "cell_type": "code",
   "execution_count": 4,
   "metadata": {},
   "outputs": [],
   "source": [
    "# Keeping all the patient_id values into list1\n",
    "list1=[]\n",
    "for i in range (2, m_r1 + 1): \n",
    "    list1.append(wb[sheets[0]].cell(row = i, column = 1).value) "
   ]
  },
  {
   "cell_type": "code",
   "execution_count": 5,
   "metadata": {},
   "outputs": [],
   "source": [
    "# Keeping all the p_id into list2\n",
    "list2=[]\n",
    "for i in range (2, m_r2 + 1): \n",
    "    list2.append(wb[sheets[1]].cell(row = i, column = 1).value)"
   ]
  },
  {
   "cell_type": "code",
   "execution_count": 6,
   "metadata": {},
   "outputs": [],
   "source": [
    "# Creating  new list named list3 \n",
    "# list3 contains all the patient_id values which are not present in p_id\n",
    "list3=list(set(list2) - set(list1))\n",
    "#list4= list(set(list1)-set(list2))"
   ]
  },
  {
   "cell_type": "code",
   "execution_count": 7,
   "metadata": {},
   "outputs": [
    {
     "data": {
      "text/plain": [
       "795"
      ]
     },
     "execution_count": 7,
     "metadata": {},
     "output_type": "execute_result"
    }
   ],
   "source": [
    "len(list3)"
   ]
  },
  {
   "cell_type": "markdown",
   "metadata": {},
   "source": [
    "#  Adding the list3 elements to the end of patient_id column in patient info sheet"
   ]
  },
  {
   "cell_type": "code",
   "execution_count": 8,
   "metadata": {},
   "outputs": [],
   "source": [
    "for i in range(0,len(list3)):\n",
    "    a=list3[i]\n",
    "    wb[sheets[0]].cell(row = m_r1+i+1,column=1).value = a"
   ]
  },
  {
   "cell_type": "markdown",
   "metadata": {},
   "source": [
    "# For each value which is newly added to the patient_id column take its corresponding column values from records sheet and add it to its row."
   ]
  },
  {
   "cell_type": "code",
   "execution_count": 9,
   "metadata": {},
   "outputs": [],
   "source": [
    "for i in range (0, len(list3)):\n",
    "    # Assign each value of list3 to variable a as list3 elements are the same elements added to patient_id column recently\n",
    "    a =list3[i]\n",
    "    for j in range(2,m_r2+1):\n",
    "        # Assignig each value of p_id to b one value at a time\n",
    "        b = wb[sheets[1]].cell(row=j,column=1).value\n",
    "        #if list value is same as the p_id value\n",
    "        if a==b:\n",
    "            # Copy the complete row of that p_id values to patient info sheet\n",
    "            for k in range(2,m_c2+1):\n",
    "                c= wb[sheets[1]].cell(row=j,column=k).value\n",
    "                wb[sheets[0]].cell(row = m_r1+i+1,column= m_c1+k-1).value = c"
   ]
  },
  {
   "cell_type": "markdown",
   "metadata": {},
   "source": [
    "# Form the columns of patient_id in patient info and p_id in records choose the values which have same values and for those values get its row from records sheet and add it to patient info sheet"
   ]
  },
  {
   "cell_type": "code",
   "execution_count": 10,
   "metadata": {},
   "outputs": [],
   "source": [
    "for i in range (2,m_r1+1):\n",
    "    # Taking each value in patient_id column of actual patient info sheet\n",
    "    a= wb[sheets[0]].cell(row=i,column=1).value\n",
    "    for j in range (2,m_r1+1):\n",
    "            b= wb[sheets[1]].cell(row=j,column=1).value\n",
    "            # Compare the patient_id values with p_id values \n",
    "            if a==b:\n",
    "                # For the same p_id and patient id values add the rows corresponding to p_id from records sheet to patient info sheet\n",
    "                for k in range(2,m_c2+1):\n",
    "                    c= wb[sheets[1]].cell(row=j,column=k).value\n",
    "                    wb[sheets[0]].cell(row=i,column=m_c1+k-1).value=c"
   ]
  },
  {
   "cell_type": "markdown",
   "metadata": {},
   "source": [
    "# Get the column names of newly added column from records sheet and assign those values to corresponding columns in patient info column"
   ]
  },
  {
   "cell_type": "code",
   "execution_count": 11,
   "metadata": {},
   "outputs": [],
   "source": [
    "for i in range(2,m_c2+1):\n",
    "    a= wb[sheets[1]].cell(row=1,column=i).value\n",
    "    wb[sheets[0]].cell(row=1,column=m_c1+i-1).value=a"
   ]
  },
  {
   "cell_type": "markdown",
   "metadata": {},
   "source": [
    "# Saving the file as New_sheet.xlsx"
   ]
  },
  {
   "cell_type": "code",
   "execution_count": 12,
   "metadata": {},
   "outputs": [],
   "source": [
    "wb.save(\"New_sheet.xlsx\")"
   ]
  },
  {
   "cell_type": "code",
   "execution_count": null,
   "metadata": {},
   "outputs": [],
   "source": []
  }
 ],
 "metadata": {
  "kernelspec": {
   "display_name": "Python 3",
   "language": "python",
   "name": "python3"
  },
  "language_info": {
   "codemirror_mode": {
    "name": "ipython",
    "version": 3
   },
   "file_extension": ".py",
   "mimetype": "text/x-python",
   "name": "python",
   "nbconvert_exporter": "python",
   "pygments_lexer": "ipython3",
   "version": "3.7.4"
  }
 },
 "nbformat": 4,
 "nbformat_minor": 2
}
