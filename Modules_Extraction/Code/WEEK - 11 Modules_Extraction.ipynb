{
 "cells": [
  {
   "cell_type": "markdown",
   "metadata": {},
   "source": [
    "# Week - 11 assignment - parse ipynb files"
   ]
  },
  {
   "cell_type": "code",
   "execution_count": 1,
   "metadata": {},
   "outputs": [],
   "source": [
    "# Importing required Modules\n",
    "import glob\n",
    "import nbformat\n",
    "import re "
   ]
  },
  {
   "cell_type": "code",
   "execution_count": 2,
   "metadata": {},
   "outputs": [],
   "source": [
    "# Adding the paths of all the files present in files folder to list1\n",
    "list1=glob.glob(\"C:/Users/gouth/DATA 601/WEEK - 11/files/*\")"
   ]
  },
  {
   "cell_type": "code",
   "execution_count": 3,
   "metadata": {},
   "outputs": [
    {
     "data": {
      "text/plain": [
       "['C:/Users/gouth/DATA 601/WEEK - 11/files\\\\doctest_template.ipynb',\n",
       " 'C:/Users/gouth/DATA 601/WEEK - 11/files\\\\Project 1.ipynb',\n",
       " 'C:/Users/gouth/DATA 601/WEEK - 11/files\\\\Project- 2.ipynb',\n",
       " 'C:/Users/gouth/DATA 601/WEEK - 11/files\\\\Week 10.ipynb',\n",
       " 'C:/Users/gouth/DATA 601/WEEK - 11/files\\\\Week 7.ipynb',\n",
       " 'C:/Users/gouth/DATA 601/WEEK - 11/files\\\\Week-3 Assignment-3.ipynb',\n",
       " 'C:/Users/gouth/DATA 601/WEEK - 11/files\\\\WEEK-5 ASSIGNMENT (Original File).ipynb',\n",
       " 'C:/Users/gouth/DATA 601/WEEK - 11/files\\\\Week-7 Fair vs Biased Dice.ipynb',\n",
       " 'C:/Users/gouth/DATA 601/WEEK - 11/files\\\\Week_4 Assignment.ipynb']"
      ]
     },
     "execution_count": 3,
     "metadata": {},
     "output_type": "execute_result"
    }
   ],
   "source": [
    "# Files present in file folder(9)\n",
    "list1"
   ]
  },
  {
   "cell_type": "code",
   "execution_count": 4,
   "metadata": {},
   "outputs": [],
   "source": [
    "# Function to read a notebook as a dictionary\n",
    "def readafile(file_name):\n",
    "    return nbformat.read(file_name, as_version=4)"
   ]
  },
  {
   "cell_type": "code",
   "execution_count": 5,
   "metadata": {},
   "outputs": [],
   "source": [
    "# Function to remove the comment lines from the code \n",
    "def remove_comments(a):\n",
    "    list1=[]\n",
    "    for i in range(len(a)):\n",
    "        if \"#\" not in a[i]:\n",
    "            list1.append(a[i])\n",
    "    return list1\n",
    "        \n",
    "    "
   ]
  },
  {
   "cell_type": "code",
   "execution_count": 6,
   "metadata": {},
   "outputs": [],
   "source": [
    "# Function to convert list to a string\n",
    "def listToString(list1):\n",
    "    str1 = \"\"    \n",
    "    for ele in list1:  \n",
    "        str1 += ele\n",
    "        str1 += ' '\n",
    "    return str1 "
   ]
  },
  {
   "cell_type": "code",
   "execution_count": 7,
   "metadata": {},
   "outputs": [],
   "source": [
    "# Function to read the next word to the word module\n",
    "def modules(list1):\n",
    "    packages = []\n",
    "    for i in range(len(list1)):\n",
    "        if \"import\" in list1[i]:\n",
    "            packages.append(list1[i+1]) \n",
    "    return packages"
   ]
  },
  {
   "cell_type": "code",
   "execution_count": 8,
   "metadata": {},
   "outputs": [],
   "source": [
    "# Function to extract the modules from the notebook files\n",
    "packages=[]\n",
    "def module_extraction(a):\n",
    "    str1=''\n",
    "    b = readafile(a)\n",
    "    for i in b['cells']:\n",
    "        # If the key is code\n",
    "        if i['cell_type'] == 'code':\n",
    "            # Add all the vlaues from the source key into a string \n",
    "            c = (i['source'])\n",
    "            str1=str1+c\n",
    "        # Splitting each lines from the string and adding it as an element in a list \n",
    "        d= (str1.splitlines())\n",
    "        # Removing comment lines\n",
    "        e = remove_comments(d)\n",
    "        # Converting list to string\n",
    "        str2=listToString(e)\n",
    "        # Adding each word in the string to a list\n",
    "        new_list=str2.split()\n",
    "        # Calling modules function\n",
    "        f = modules(new_list)\n",
    "    global packages\n",
    "    packages+=f\n",
    "    #Returning packages\n",
    "    return packages\n",
    "    "
   ]
  },
  {
   "cell_type": "code",
   "execution_count": 9,
   "metadata": {},
   "outputs": [
    {
     "name": "stdout",
     "output_type": "stream",
     "text": [
      "The modules used so far in the notebook files are   ==>  \n",
      " \n",
      " ['testmod', 'datetime', 'pandas', 'matplotlib', 'matplotlib.pyplot', 'pandas', 'matplotlib', 'matplotlib.pyplot', 'matplotlib.pyplot', 'zipfile', 'glob', 'stopwords', 're', 'docx', 'pandas', 'pandas', 'datetime', 'matplotlib', 'random', 'pandas', 'pandas', 'randint', 'openpyxl', 'random', 'numpy', 'matplotlib.pyplot', 'ZipFile', 'BeautifulSoup']\n"
     ]
    }
   ],
   "source": [
    "for i in list1:\n",
    "    a= module_extraction(i)\n",
    "print(\"The modules used so far in the notebook files are   ==>  \\n \\n\" ,  a)\n"
   ]
  }
 ],
 "metadata": {
  "kernelspec": {
   "display_name": "Python 3",
   "language": "python",
   "name": "python3"
  },
  "language_info": {
   "codemirror_mode": {
    "name": "ipython",
    "version": 3
   },
   "file_extension": ".py",
   "mimetype": "text/x-python",
   "name": "python",
   "nbconvert_exporter": "python",
   "pygments_lexer": "ipython3",
   "version": "3.7.4"
  }
 },
 "nbformat": 4,
 "nbformat_minor": 2
}
